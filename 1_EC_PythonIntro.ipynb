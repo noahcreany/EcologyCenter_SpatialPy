{
  "nbformat": 4,
  "nbformat_minor": 0,
  "metadata": {
    "colab": {
      "name": "EC-PythonIntro.ipynb",
      "provenance": [],
      "authorship_tag": "ABX9TyMCJ09BcgtR8PoZIhlAOdgD",
      "include_colab_link": true
    },
    "kernelspec": {
      "name": "python3",
      "display_name": "Python 3"
    },
    "language_info": {
      "name": "python"
    }
  },
  "cells": [
    {
      "cell_type": "markdown",
      "metadata": {
        "id": "view-in-github",
        "colab_type": "text"
      },
      "source": [
        "<a href=\"https://colab.research.google.com/github/noahcreany/EcologyCenter_SpatialPy/blob/main/1_EC_PythonIntro.ipynb\" target=\"_parent\"><img src=\"https://colab.research.google.com/assets/colab-badge.svg\" alt=\"Open In Colab\"/></a>"
      ]
    },
    {
      "cell_type": "markdown",
      "source": [
        "#Welcome to an Intro to GeoSpatial Analysis in Python\n",
        "\n",
        "This will be a general introduction to using open source python packages (R Libraries) for mapping and spatial statistics. \n",
        "\n",
        "Outline for Workshop:\n",
        "1.   A brief intro to python\n",
        "2.   Wrangling geometries with GeoPandas\n",
        "3.   Make a Map\n",
        "4.   Spatial Statistics\n",
        "\n",
        "*Note: Many of these modules were inspired by Python \"courses\" on Kaggle.com (A great source to get started in Python - https://www.kaggle.com/learn).*\n",
        "\n",
        "Let's get started!\n",
        "\n",
        "\n"
      ],
      "metadata": {
        "id": "ZZU-7oiAN0xE"
      }
    },
    {
      "cell_type": "markdown",
      "source": [
        "#A Brief Intro to Python\n",
        "\n",
        "I'm going to assume some of you might have some programming experience in R - perhaps that's what brought you here. Nevertheless, I'll cover some basic aspects of Python as it is experienced here in Google Colab (Jupyter Notebook)."
      ],
      "metadata": {
        "id": "74_KVhV_PR0M"
      }
    },
    {
      "cell_type": "code",
      "source": [
        "# Comments are made with #\n",
        "a_var = 3\n",
        "\n",
        "print(a_var)"
      ],
      "metadata": {
        "id": "Fqc9GiU0PUnI"
      },
      "execution_count": null,
      "outputs": []
    },
    {
      "cell_type": "code",
      "source": [
        "# Assigning objects uses =, instead of <- (like in R)\n",
        "a_list = ['item 1', 'item 2','item 3'] # or [1,2,3] if numeric list\n",
        "\n",
        "#This is the syntax for Python 3 to print a list\n",
        "print(a_list)\n",
        "#or\n",
        "a_list"
      ],
      "metadata": {
        "id": "zU_lgi7QhsqU"
      },
      "execution_count": null,
      "outputs": []
    },
    {
      "cell_type": "code",
      "source": [
        "#Sometimes a dictionary is helpful for loops:\n",
        "a_dict = {'item 1':1, 'item 2':2,'item 3':3}\n",
        "print('Get Value of Item 1: ', a_dict['item 1'])\n",
        "print('Get Value of Item 2: ', a_dict['item 2'])"
      ],
      "metadata": {
        "id": "PLSiqr_iQsdx"
      },
      "execution_count": null,
      "outputs": []
    },
    {
      "cell_type": "code",
      "source": [
        "#For loops in Python\n",
        "for i in range(a_dict['item 2']):\n",
        "  print(i)"
      ],
      "metadata": {
        "id": "0V0DtIhAhgNl"
      },
      "execution_count": null,
      "outputs": []
    },
    {
      "cell_type": "markdown",
      "source": [
        "You'll notice, in Python counting starts at 0 instead of 1, as in R. This is important to keep in mind with loops and ranges of data. "
      ],
      "metadata": {
        "id": "2CtkGfAxh-2C"
      }
    },
    {
      "cell_type": "code",
      "source": [
        "def a_function(num,mul):  #def defines a function, then the name of the function, and then (parameters of the function):\n",
        "  product = num*mul       #next you define what the function does, these are local variables so you can use any variable names you'd like\n",
        "  return product          #Finally, you need to return a value, otherwise it won't appear to do anything\n",
        "\n",
        "a_function(7,9) #Function, product of 7*9"
      ],
      "metadata": {
        "id": "JrK2xmEqRBz9"
      },
      "execution_count": null,
      "outputs": []
    },
    {
      "cell_type": "markdown",
      "source": [
        "#Pandas, the 'Tidyverse' of Python\n",
        "Pandas is a \"dataframe\" package in Python\n",
        "\n",
        "There are a few conventions for its use, but understanding how to subset and manipulate variables is the same as in GeoPandas. GeoPandas just adds geometries to Pandas.\n",
        "\n",
        "Pandas Cheatsheet:\n",
        "https://pandas.pydata.org/Pandas_Cheat_Sheet.pdf\n",
        "\n",
        "GeoPandas Cheatsheet:\n",
        "https://github.com/prasunkgupta/python-cheat-sheets/blob/master/geopandas-shapely-geopy.ipynb"
      ],
      "metadata": {
        "id": "UkvPzSRCTAbY"
      }
    },
    {
      "cell_type": "code",
      "source": [
        "#import packages in python, often abbreviated like this:\n",
        "import pandas as pd\n",
        "import numpy as np\n",
        "# import geopandas as gpd\n",
        "import requests"
      ],
      "metadata": {
        "id": "S3amSCbyS9pH"
      },
      "execution_count": null,
      "outputs": []
    },
    {
      "cell_type": "code",
      "source": [
        "df = pd.DataFrame(a_dict, index = [1])\n",
        "df.head()"
      ],
      "metadata": {
        "id": "DqcVYRhAXZmC"
      },
      "execution_count": null,
      "outputs": []
    },
    {
      "cell_type": "code",
      "source": [
        "#print columns\n",
        "for i in df.columns: print(i)\n",
        "\n",
        "#Alternatively\n",
        "df.columns.to_list()"
      ],
      "metadata": {
        "id": "GGJPjx2hZKiN"
      },
      "execution_count": null,
      "outputs": []
    },
    {
      "cell_type": "markdown",
      "source": [
        "###Pandas often makes use of appending routines to the DataFrame, and as a result can often use minimal code. \n",
        "\n",
        "Let's say we want to remove spaces from all of our columns:"
      ],
      "metadata": {
        "id": "eaWJ-S2Mj9LU"
      }
    },
    {
      "cell_type": "code",
      "source": [
        "#As above to call on the columns we use df.columns:\n",
        "df.columns = df.columns.str.replace(' ','')\n",
        "df.head()"
      ],
      "metadata": {
        "id": "-708XmxFZzbN"
      },
      "execution_count": null,
      "outputs": []
    },
    {
      "cell_type": "markdown",
      "source": [
        "Without spaces, we can use variable (column) names by appending them to the DataFrame. Additionally, we can make use of some built in features to change their values"
      ],
      "metadata": {
        "id": "D5qioVm7ktSP"
      }
    },
    {
      "cell_type": "code",
      "source": [
        "df.item1 = df.item1.mul(1000)\n",
        "df.item2 = np.log10(df.item2)\n",
        "df.item3 = np.log2(df.item3)\n",
        "df.head()"
      ],
      "metadata": {
        "id": "qjXEA7siYY-a"
      },
      "execution_count": null,
      "outputs": []
    },
    {
      "cell_type": "code",
      "source": [
        "df= df.round(3)\n",
        "df.head()"
      ],
      "metadata": {
        "id": "Owa8rv4heWNo"
      },
      "execution_count": null,
      "outputs": []
    },
    {
      "cell_type": "markdown",
      "source": [
        "##Let's move on to something more interesting - Webscraping data and Pandas data wrangling\n",
        "Let's grab some Ramen Ratings from a website - theramenrater.com It's fairly easy to import data into pandas from the web."
      ],
      "metadata": {
        "id": "D-8Mf4FsecOB"
      }
    },
    {
      "cell_type": "code",
      "source": [
        "url = 'https://www.theramenrater.com/wp-content/uploads/2022/10/4300The-Big-List.xlsx'\n",
        "df = pd.read_excel(url)\n",
        "df"
      ],
      "metadata": {
        "id": "zGVqtaIZWRbs"
      },
      "execution_count": null,
      "outputs": []
    },
    {
      "cell_type": "code",
      "source": [
        "#How many unique Brand Reviews\n",
        "print('Number of Ramens: ',len(df.Brand.unique()))"
      ],
      "metadata": {
        "id": "iqZZeY6rlTl1"
      },
      "execution_count": null,
      "outputs": []
    },
    {
      "cell_type": "code",
      "source": [
        "#How many reviews by Brand and type?\n",
        "df.Brand.value_counts()"
      ],
      "metadata": {
        "id": "5B1DCQh9epX-"
      },
      "execution_count": null,
      "outputs": []
    },
    {
      "cell_type": "code",
      "source": [
        "#Reviews as % of whole\n",
        "df.Brand.value_counts(normalize = True).mul(100).round(2)"
      ],
      "metadata": {
        "id": "W9h_TpznEj8V"
      },
      "execution_count": null,
      "outputs": []
    },
    {
      "cell_type": "markdown",
      "source": [
        "Subsetting in Pandas is similar to R, where you can use the index(ie.df[1:5]) or call on specific values: within columns."
      ],
      "metadata": {
        "id": "SrETg-G0EvBL"
      }
    },
    {
      "cell_type": "code",
      "source": [
        "# Which brand has the highest ratings?\n",
        "df = df[df.Stars.isin([0,1,2,3,4,5])] \n",
        "ratings = df.groupby('Brand')['Stars'].mean().sort_values(ascending = False).to_frame()\n",
        "ratings"
      ],
      "metadata": {
        "id": "zKzTo-nlfizZ"
      },
      "execution_count": null,
      "outputs": []
    },
    {
      "cell_type": "code",
      "source": [
        "# What is the Best Ramen in US\n",
        "usramen = df[df['Country']=='United States']\n",
        "usramen.groupby('Brand')['Stars'].mean().sort_values(ascending = False).to_frame()"
      ],
      "metadata": {
        "id": "bet0g8JfmISb"
      },
      "execution_count": null,
      "outputs": []
    },
    {
      "cell_type": "markdown",
      "source": [
        "Looks like there are a lot of restaurants in there... lets remove them"
      ],
      "metadata": {
        "id": "mE7DSH4Knp5w"
      }
    },
    {
      "cell_type": "code",
      "source": [
        "usramen = usramen[~usramen.Style.isin(['Restaurant', 'Bar', 'Bottle'])]"
      ],
      "metadata": {
        "id": "onzPIV-gFARX"
      },
      "execution_count": null,
      "outputs": []
    },
    {
      "cell_type": "code",
      "source": [
        "usramen.groupby(['Brand','Style'])['Stars'].mean().sort_values(ascending = False).to_frame()"
      ],
      "metadata": {
        "id": "IvEKIJGhFJ3J"
      },
      "execution_count": null,
      "outputs": []
    }
  ]
}