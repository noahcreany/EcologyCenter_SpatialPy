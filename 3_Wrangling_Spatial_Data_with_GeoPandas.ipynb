{
  "nbformat": 4,
  "nbformat_minor": 0,
  "metadata": {
    "colab": {
      "name": "3_Wrangling Spatial Data with GeoPandas.ipynb",
      "provenance": [],
      "authorship_tag": "ABX9TyM+FaLZVfEgZPmSc2teeGYQ",
      "include_colab_link": true
    },
    "kernelspec": {
      "name": "python3",
      "display_name": "Python 3"
    },
    "language_info": {
      "name": "python"
    }
  },
  "cells": [
    {
      "cell_type": "markdown",
      "metadata": {
        "id": "view-in-github",
        "colab_type": "text"
      },
      "source": [
        "<a href=\"https://colab.research.google.com/github/noahcreany/EcologyCenter_SpatialPy/blob/main/3_Wrangling_Spatial_Data_with_GeoPandas.ipynb\" target=\"_parent\"><img src=\"https://colab.research.google.com/assets/colab-badge.svg\" alt=\"Open In Colab\"/></a>"
      ]
    },
    {
      "cell_type": "markdown",
      "source": [
        "#GeoPandas\n",
        "GeoPandas is a python library built on Pandas to read spatial data. Essentially, GeoPandas allows you integrate the geometries of the file and manipulate attribute tables using code."
      ],
      "metadata": {
        "id": "6SuApmg-CxOh"
      }
    },
    {
      "cell_type": "markdown",
      "source": [
        "*First we have to make GeoPandas work in Google Colab*"
      ],
      "metadata": {
        "id": "Xspy8c-imlJ_"
      }
    },
    {
      "cell_type": "code",
      "source": [
        "%%time\n",
        "# Install GeoPandas in Colab\n",
        "!apt install libspatialindex-dev\n",
        "!pip install rtree\n",
        "!pip install geopandas"
      ],
      "metadata": {
        "id": "WP54fNGKjohA"
      },
      "execution_count": null,
      "outputs": []
    },
    {
      "cell_type": "code",
      "execution_count": null,
      "metadata": {
        "id": "FtFK87MSBlva"
      },
      "outputs": [],
      "source": [
        "import geopandas as gpd"
      ]
    },
    {
      "cell_type": "markdown",
      "source": [
        "Download Utah Wilderness Areas and turn it into a GeoPandas DataFrame"
      ],
      "metadata": {
        "id": "zGMhkUUkGK0v"
      }
    },
    {
      "cell_type": "code",
      "source": [
        "zipfile ='https://opendata.arcgis.com/datasets/61aa9c31ec96412480f99990d5668a98_0.zip'\n",
        "utah_wild = gpd.read_file(zipfile)\n",
        "utah_wild.head()"
      ],
      "metadata": {
        "id": "XZLcphnKCwNJ"
      },
      "execution_count": null,
      "outputs": []
    },
    {
      "cell_type": "code",
      "source": [
        "#Which agency manages Utah Wilderness?\n",
        "utah_wild.Admin.value_counts()"
      ],
      "metadata": {
        "id": "x47Cp69bGXpn"
      },
      "execution_count": null,
      "outputs": []
    },
    {
      "cell_type": "code",
      "source": [
        "#How much land does each manage?\n",
        "utah_wild.groupby('Admin')['Acres'].sum()"
      ],
      "metadata": {
        "id": "FROxK91NKnv1"
      },
      "execution_count": null,
      "outputs": []
    },
    {
      "cell_type": "code",
      "source": [
        "#How much land does each manage as % of whole?\n",
        "(utah_wild.groupby('Admin')['Acres'].sum()/(utah_wild.Acres.sum())).mul(100).round(2)"
      ],
      "metadata": {
        "id": "y4fQucUzK8bT"
      },
      "execution_count": null,
      "outputs": []
    },
    {
      "cell_type": "code",
      "source": [
        "utah_wild.plot()"
      ],
      "metadata": {
        "id": "KlnpS9FzJKqa"
      },
      "execution_count": null,
      "outputs": []
    },
    {
      "cell_type": "markdown",
      "source": [
        "Let's add the State and county boundaries for some context"
      ],
      "metadata": {
        "id": "xAIko9nCJ4SQ"
      }
    },
    {
      "cell_type": "code",
      "source": [
        "state = gpd.read_file('https://opendata.arcgis.com/datasets/8344c33ec2114341a59c4c1d72bcf38a_0.zip')\n",
        "state = state.loc[state.STATE=='Utah']\n",
        "counties = gpd.read_file('https://opendata.arcgis.com/datasets/90431cac2f9f49f4bcf1505419583753_0.zip')"
      ],
      "metadata": {
        "id": "SBi9jtPWJbjc"
      },
      "execution_count": null,
      "outputs": []
    },
    {
      "cell_type": "code",
      "source": [
        "state.head()"
      ],
      "metadata": {
        "id": "Zav4pwdxNyOX"
      },
      "execution_count": null,
      "outputs": []
    },
    {
      "cell_type": "code",
      "source": [
        "ax = state.plot(figsize=(10,10), color = 'none',edgecolor = 'black',zorder = 3)\n",
        "counties.plot(color = 'none',edgecolor = 'lightgrey',ax =ax)\n",
        "utah_wild.plot(color = 'forestgreen',ax =ax)"
      ],
      "metadata": {
        "id": "mvThrUEkJxRK"
      },
      "execution_count": null,
      "outputs": []
    },
    {
      "cell_type": "markdown",
      "source": [
        "#Coordinate Reference Systems"
      ],
      "metadata": {
        "id": "Npyw9jgnee6Z"
      }
    },
    {
      "cell_type": "markdown",
      "source": [
        "Let's check what our CRS is for the shapefiles we already have. By adding ```.crs``` to the GeoDataFrame GeoPandas returns our epsg crs."
      ],
      "metadata": {
        "id": "cRfjn1d-enT9"
      }
    },
    {
      "cell_type": "code",
      "source": [
        "#First we need to match our CRS\n",
        "print('utah_wild: ', utah_wild.crs)\n",
        "print('counties: ', counties.crs)\n",
        "print('state: ',state.crs)"
      ],
      "metadata": {
        "id": "Sy1zyMl2Rbwh"
      },
      "execution_count": null,
      "outputs": []
    },
    {
      "cell_type": "markdown",
      "source": [
        "Let's reproject our data to match a WGS 84 projection used in basemaps. To to this we add ```.to_crs(epsg=3857)``` to the GeoDataFrame"
      ],
      "metadata": {
        "id": "IsgITzONe3Dv"
      }
    },
    {
      "cell_type": "code",
      "source": [
        "utah_wild_t = utah_wild.to_crs(epsg=3857)\n",
        "counties_t = counties.to_crs(epsg=3857)\n",
        "state_t = counties.to_crs(epsg=3857)"
      ],
      "metadata": {
        "id": "_iZl-pW1RhcS"
      },
      "execution_count": null,
      "outputs": []
    },
    {
      "cell_type": "markdown",
      "source": [
        "Let's add a satellite background to the map using Contextily\n",
        "\n",
        "\n",
        "\n",
        "```\n",
        "!pip install contextily\n",
        "```\n",
        "\n"
      ],
      "metadata": {
        "id": "pUpO9xEJPIRC"
      }
    },
    {
      "cell_type": "code",
      "source": [
        "!pip install contextily"
      ],
      "metadata": {
        "id": "xqDSuqN5bPUr"
      },
      "execution_count": null,
      "outputs": []
    },
    {
      "cell_type": "code",
      "source": [
        "import contextily as cx\n",
        "\n",
        "#Let's take a look at all of the basemaps we have at our disposal!\n",
        "cx.providers"
      ],
      "metadata": {
        "id": "4gp3DWVrPeBA"
      },
      "execution_count": null,
      "outputs": []
    },
    {
      "cell_type": "markdown",
      "source": [
        "We'll use the same code and after we've added our elements to ax, we add the following line of code swapping ```provider.mapname``` with something like ```NASAGIBS.BlueMarble```\n",
        "\n",
        "\n",
        "```\n",
        "cx.add_basemap(ax, source = cx.providers.provider.mapname)\n",
        "```\n",
        "\n"
      ],
      "metadata": {
        "id": "TbjRd7yGfZzh"
      }
    },
    {
      "cell_type": "code",
      "source": [
        "ax = state_t.plot(figsize=(15,15), color = 'none',edgecolor = 'black',zorder = 3)\n",
        "counties_t.plot(color = 'none',edgecolor = 'lightgrey',ax =ax)\n",
        "utah_wild_t.plot(color = 'forestgreen',ax =ax)\n",
        "\n",
        "cx.add_basemap(ax, source = cx.providers.NASAGIBS.BlueMarble)\n",
        "ax.axis('off') #remove x,y axes\n"
      ],
      "metadata": {
        "id": "yBtBfZnoPH_E"
      },
      "execution_count": null,
      "outputs": []
    },
    {
      "cell_type": "markdown",
      "source": [
        "#Data Manipulation\n",
        "\n",
        "Let's add the County to the ```utah_wild``` dataset so we can see how much wilderness is in each county.\n",
        "\n",
        "\n"
      ],
      "metadata": {
        "id": "lz_WMuEJXFUk"
      }
    },
    {
      "cell_type": "code",
      "source": [
        "counties.columns"
      ],
      "metadata": {
        "id": "bO69xM_xleiW"
      },
      "execution_count": null,
      "outputs": []
    },
    {
      "cell_type": "code",
      "source": [
        "utah_wild= gpd.sjoin(utah_wild, counties, how ='inner')\n",
        "utah_wild.head()"
      ],
      "metadata": {
        "id": "Tq64nZ1lKP9J"
      },
      "execution_count": null,
      "outputs": []
    },
    {
      "cell_type": "code",
      "source": [
        "utah_wild.sample(5)"
      ],
      "metadata": {
        "id": "64yMt5VhnxkO"
      },
      "execution_count": null,
      "outputs": []
    },
    {
      "cell_type": "markdown",
      "source": [
        "Let's cleanup our newly merged GeoDataFrame"
      ],
      "metadata": {
        "id": "DikRJKiAl4AM"
      }
    },
    {
      "cell_type": "code",
      "source": [
        "utah_wild.columns"
      ],
      "metadata": {
        "id": "R6LuE2ITl7rG"
      },
      "execution_count": null,
      "outputs": []
    },
    {
      "cell_type": "code",
      "source": [
        "utah_wild = utah_wild.rename(columns = {'NAME':'County'})"
      ],
      "metadata": {
        "id": "oWXR651YmFDW"
      },
      "execution_count": null,
      "outputs": []
    },
    {
      "cell_type": "code",
      "source": [
        "#How many acres of Wilderness in each Utah County\n",
        "utah_wild.groupby('County')['Acres'].sum()"
      ],
      "metadata": {
        "id": "Gykb5NBLXgLd"
      },
      "execution_count": null,
      "outputs": []
    },
    {
      "cell_type": "code",
      "source": [
        "#How many acres of Wilderness per person based on recent Census estimate?\n",
        "(utah_wild.groupby('County')['Acres'].sum()/utah_wild.groupby('County')['POP_LASTCE'].mean()).round(2)"
      ],
      "metadata": {
        "id": "CVZUsZOgmPBQ"
      },
      "execution_count": null,
      "outputs": []
    },
    {
      "cell_type": "markdown",
      "source": [
        "How far away is the nearest Wilderness area for Utah Cities?"
      ],
      "metadata": {
        "id": "PMr_OriA0J1s"
      }
    },
    {
      "cell_type": "code",
      "source": [
        "utah_cities = gpd.read_file('https://opendata.arcgis.com/datasets/543fa1f073714198a3dbf8a292bdf30c_0.zip')\n",
        "utah_cities.geometry"
      ],
      "metadata": {
        "id": "nS52hgEAz6dC"
      },
      "execution_count": null,
      "outputs": []
    },
    {
      "cell_type": "code",
      "source": [
        "#Lets use a UTM CRS for consistency between the GeoDFs\n",
        "utah_wild_utm = utah_wild.to_crs(epsg= 26912)\n",
        "utah_cities_utm = utah_cities.to_crs(epsg = 26912)"
      ],
      "metadata": {
        "id": "7cnHFUW60k6h"
      },
      "execution_count": null,
      "outputs": []
    },
    {
      "cell_type": "code",
      "source": [
        "#Since the Cities are Polygons, lets cast them to points using the centroid of the polygon\n",
        "utah_cities_utm['centroid'] = utah_cities_utm.geometry.centroid"
      ],
      "metadata": {
        "id": "PQGzFNIa2zkT"
      },
      "execution_count": null,
      "outputs": []
    },
    {
      "cell_type": "code",
      "source": [
        "utah_cities_utm['Distance_To_Wld'] = utah_cities_utm['centroid'].apply(lambda x: utah_wild_utm.geometry.distance(x).min())"
      ],
      "metadata": {
        "id": "QO8gU59b7DEk"
      },
      "execution_count": null,
      "outputs": []
    },
    {
      "cell_type": "code",
      "source": [
        "utah_cities_utm"
      ],
      "metadata": {
        "id": "lYNWPhE06iEe"
      },
      "execution_count": null,
      "outputs": []
    },
    {
      "cell_type": "code",
      "source": [
        "print('Mean distance to monitoring stations: {} meters'.format(utah_cities_utm.Distance_To_Wld.mean()))\n"
      ],
      "metadata": {
        "id": "CT3WHaZB0dRV"
      },
      "execution_count": null,
      "outputs": []
    },
    {
      "cell_type": "code",
      "source": [
        "print('Closest Wilderness area ({} m):'.format(utah_cities_utm.Distance_To_Wld.min()))\n",
        "print(utah_cities_utm.iloc[distances.idxmin()])"
      ],
      "metadata": {
        "id": "rU8JP2tK6Hcp"
      },
      "execution_count": null,
      "outputs": []
    },
    {
      "cell_type": "markdown",
      "source": [
        "Let's plot the distance to Wilderness for these cities"
      ],
      "metadata": {
        "id": "zwkHtLHN6v_k"
      }
    },
    {
      "cell_type": "code",
      "source": [
        "utah_cities = gpd.GeoDataFrame(utah_cities)"
      ],
      "metadata": {
        "id": "t4-GMrP7985q"
      },
      "execution_count": null,
      "outputs": []
    },
    {
      "cell_type": "code",
      "source": [
        "utah_cities = utah_cities_utm.to_crs(utah_wild_t.crs) #We can use the .crs from another dataframe\n",
        "\n",
        "utah_cities = utah_cities[['centroid','Distance_To_Wld']]\n",
        "utah_cities = gpd.GeoDataFrame(utah_cities, geometry='centroid')\n",
        "utah_cities = utah_cities.to_crs(utah_wild_t.crs)\n",
        "\n",
        "ax = utah_cities.plot(figsize=(15,15),marker='o',\n",
        "                          column = 'Distance_To_Wld', cmap = 'hot_r', legend = True)\n",
        "cx.add_basemap(ax, source = cx.providers.Stamen.Toner)\n",
        "ax.axis('off') #remove x,y axes\n"
      ],
      "metadata": {
        "id": "eI1gdlu97ori"
      },
      "execution_count": null,
      "outputs": []
    }
  ]
}